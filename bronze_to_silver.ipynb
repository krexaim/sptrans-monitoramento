{
 "cells": [
  {
   "cell_type": "code",
   "execution_count": 11,
   "id": "3d2d4158-6a52-436d-b114-8405b5868cf6",
   "metadata": {},
   "outputs": [],
   "source": [
    "from pyspark.sql import SparkSession\n",
    "from pyspark.sql.functions import col, explode, current_timestamp, lit, to_timestamp\n",
    "from pyspark.sql.types import StructType, StructField, StringType, DoubleType, IntegerType\n",
    "import os"
   ]
  },
  {
   "cell_type": "code",
   "execution_count": 15,
   "id": "86c2dbe4-42be-4e32-b53a-7b011bce0535",
   "metadata": {},
   "outputs": [],
   "source": [
    "MINIO_ENDPOINT = os.getenv(\"MINIO_ENDPOINT_DOCKER\", \"minio:9000\")\n",
    "MINIO_ACCESS_KEY = os.getenv(\"MINIO_ROOT_USER\", \"admin\")\n",
    "MINIO_SECRET_KEY = os.getenv(\"MINIO_ROOT_PASSWORD\", \"minioadmin\")\n",
    "\n",
    "BRONZE_PATH = \"s3a://bronze/posicao/*/*/*/\"\n",
    "SILVER_PATH = \"s3a://silver/posicao/\""
   ]
  },
  {
   "cell_type": "code",
   "execution_count": 16,
   "id": "d6f9b08c-6bb7-4289-a9c2-1011c6d291f0",
   "metadata": {},
   "outputs": [],
   "source": [
    "spark = (\n",
    "    SparkSession.builder.appName(\"Transform_Posicao_Bronze_to_Silver\")\n",
    "    .config(\"spark.hadoop.fs.s3a.endpoint\", f\"http://{MINIO_ENDPOINT}\")\n",
    "    .config(\"spark.hadoop.fs.s3a.access.key\", MINIO_ACCESS_KEY)\n",
    "    .config(\"spark.hadoop.fs.s3a.secret.key\", MINIO_SECRET_KEY)\n",
    "    .config(\"spark.hadoop.fs.s3a.path.style.access\", True)\n",
    "    .getOrCreate()\n",
    ")"
   ]
  },
  {
   "cell_type": "code",
   "execution_count": 17,
   "id": "7cdaf995-2b2c-4b16-822a-834f4e5c762c",
   "metadata": {},
   "outputs": [],
   "source": [
    "df_raw = spark.read.option(\"multiline\", True).json(BRONZE_PATH)"
   ]
  },
  {
   "cell_type": "code",
   "execution_count": 18,
   "id": "ae017728-d11f-483d-9f69-d00825a75250",
   "metadata": {},
   "outputs": [
    {
     "name": "stdout",
     "output_type": "stream",
     "text": [
      "root\n",
      " |-- hr: string (nullable = true)\n",
      " |-- l: array (nullable = true)\n",
      " |    |-- element: struct (containsNull = true)\n",
      " |    |    |-- c: string (nullable = true)\n",
      " |    |    |-- cl: long (nullable = true)\n",
      " |    |    |-- lt0: string (nullable = true)\n",
      " |    |    |-- lt1: string (nullable = true)\n",
      " |    |    |-- qv: long (nullable = true)\n",
      " |    |    |-- sl: long (nullable = true)\n",
      " |    |    |-- vs: array (nullable = true)\n",
      " |    |    |    |-- element: struct (containsNull = true)\n",
      " |    |    |    |    |-- a: boolean (nullable = true)\n",
      " |    |    |    |    |-- is: string (nullable = true)\n",
      " |    |    |    |    |-- p: long (nullable = true)\n",
      " |    |    |    |    |-- px: double (nullable = true)\n",
      " |    |    |    |    |-- py: double (nullable = true)\n",
      " |    |    |    |    |-- sv: string (nullable = true)\n",
      " |    |    |    |    |-- ta: string (nullable = true)\n",
      "\n"
     ]
    },
    {
     "name": "stderr",
     "output_type": "stream",
     "text": [
      "IOPub data rate exceeded.\n",
      "The Jupyter server will temporarily stop sending output\n",
      "to the client in order to avoid crashing it.\n",
      "To change this limit, set the config variable\n",
      "`--ServerApp.iopub_data_rate_limit`.\n",
      "\n",
      "Current values:\n",
      "ServerApp.iopub_data_rate_limit=1000000.0 (bytes/sec)\n",
      "ServerApp.rate_limit_window=3.0 (secs)\n",
      "\n"
     ]
    }
   ],
   "source": [
    "df_raw.printSchema()\n",
    "df_raw.show(1, truncate=False)"
   ]
  },
  {
   "cell_type": "code",
   "execution_count": 19,
   "id": "cd6ede60-6b97-4b2c-b46f-625ec98d9592",
   "metadata": {},
   "outputs": [],
   "source": [
    "df_exploded = (\n",
    "    df_raw\n",
    "    .withColumn(\"linha\", explode(col(\"l\")))\n",
    "    .withColumn(\"veiculo\", explode(col(\"linha.vs\")))\n",
    ")"
   ]
  },
  {
   "cell_type": "code",
   "execution_count": 25,
   "id": "042e1d2a-439f-4fa4-bd38-2d0476b040a2",
   "metadata": {},
   "outputs": [
    {
     "name": "stdout",
     "output_type": "stream",
     "text": [
      "+------------+------------------+-----------------+-------+--------------+--------------+--------------------+-------------------+-------------------+-------------------+--------------------------+\n",
      "|codigo_linha|terminal_inicial  |terminal_final   |sentido|codigo_veiculo|acessibilidade|ultima_atualizacao  |latitude           |longitude          |hora_referencia    |ingest_timestamp          |\n",
      "+------------+------------------+-----------------+-------+--------------+--------------+--------------------+-------------------+-------------------+-------------------+--------------------------+\n",
      "|4027-41     |SÃO MATEUS        |MORRO DO CRUZEIRO|2      |3117          |false         |2025-10-20T15:36:29Z|-23.637357         |-46.4383655        |2025-10-27 12:36:00|2025-10-27 19:51:21.160759|\n",
      "|GUIN-10     |GUINCHO           |GUINCHO          |1      |7302          |false         |2025-10-20T18:53:54Z|-23.692902500000002|-46.778492         |2025-10-27 15:54:00|2025-10-27 19:51:21.160759|\n",
      "|GUIN-10     |GUINCHO           |GUINCHO          |1      |7302          |false         |2025-10-20T19:46:24Z|-23.692902500000002|-46.778492         |2025-10-27 16:46:00|2025-10-27 19:51:21.160759|\n",
      "|189L-10     |LAPA              |CONEXÃO VL. IÓRIO|2      |10001         |true          |2025-10-20T19:37:16Z|-23.487222250000002|-46.7106           |2025-10-27 16:37:00|2025-10-27 19:51:21.160759|\n",
      "|189L-10     |LAPA              |CONEXÃO VL. IÓRIO|2      |10003         |true          |2025-10-20T19:13:37Z|-23.486610499999998|-46.710868000000005|2025-10-27 16:14:00|2025-10-27 19:51:21.160759|\n",
      "|189L-10     |LAPA              |CONEXÃO VL. IÓRIO|2      |10005         |true          |2025-10-20T19:06:54Z|-23.51377175       |-46.7025705        |2025-10-27 16:06:00|2025-10-27 19:51:21.160759|\n",
      "|8004-10     |TERM. LAPA        |HAB. TURÍSTICA   |1      |10201         |true          |2025-10-20T17:23:37Z|-23.5201785        |-46.703094         |2025-10-27 14:23:00|2025-10-27 19:51:21.160759|\n",
      "|8004-10     |TERM. LAPA        |HAB. TURÍSTICA   |1      |10201         |true          |2025-10-20T17:26:35Z|-23.5196005        |-46.700601         |2025-10-27 14:26:00|2025-10-27 19:51:21.160759|\n",
      "|8008-10     |TERM. PIRITUBA    |HAB. TURÍSTICA   |2      |10202         |true          |2025-10-20T17:11:51Z|-23.4887235        |-46.7491965        |2025-10-27 14:12:00|2025-10-27 19:51:21.160759|\n",
      "|8008-10     |TERM. PIRITUBA    |HAB. TURÍSTICA   |2      |10203         |true          |2025-10-20T16:32:50Z|-23.4688045        |-46.753536         |2025-10-27 13:33:00|2025-10-27 19:51:21.160759|\n",
      "|948A-10     |METRÔ BARRA FUNDA |VL. ZATT         |1      |10206         |true          |2025-10-20T19:06:46Z|-23.5150935        |-46.6983855        |2025-10-27 16:06:00|2025-10-27 19:51:21.160759|\n",
      "|948A-10     |METRÔ BARRA FUNDA |VL. ZATT         |2      |10207         |true          |2025-10-20T15:36:27Z|-23.4694535        |-46.7135935        |2025-10-27 12:36:00|2025-10-27 19:51:21.160759|\n",
      "|948A-10     |METRÔ BARRA FUNDA |VL. ZATT         |2      |10207         |true          |2025-10-20T16:32:40Z|-23.4694535        |-46.7135935        |2025-10-27 13:32:00|2025-10-27 19:51:21.160759|\n",
      "|948A-10     |METRÔ BARRA FUNDA |VL. ZATT         |2      |10207         |true          |2025-10-20T16:33:25Z|-23.4694535        |-46.7135935        |2025-10-27 13:33:00|2025-10-27 19:51:21.160759|\n",
      "|948A-10     |METRÔ BARRA FUNDA |VL. ZATT         |1      |10207         |true          |2025-10-20T17:23:39Z|-23.5199865        |-46.701155         |2025-10-27 14:23:00|2025-10-27 19:51:21.160759|\n",
      "|958P-10     |VL. OLÍMPIA       |JD. NARDINI      |2      |10211         |true          |2025-10-20T15:36:05Z|-23.5010385        |-46.741875         |2025-10-27 12:36:00|2025-10-27 19:51:21.160759|\n",
      "|958P-10     |VL. OLÍMPIA       |JD. NARDINI      |1      |10212         |true          |2025-10-20T19:13:32Z|-23.5453465        |-46.7188165        |2025-10-27 16:14:00|2025-10-27 19:51:21.160759|\n",
      "|958P-10     |VL. OLÍMPIA       |JD. NARDINI      |2      |10213         |true          |2025-10-20T16:32:35Z|-23.4802775        |-46.758544         |2025-10-27 13:32:00|2025-10-27 19:51:21.160759|\n",
      "|888P-10     |COHAB TAIPAS      |PERUS            |2      |10214         |true          |2025-10-20T19:45:33Z|-23.442003         |-46.708443         |2025-10-27 16:45:00|2025-10-27 19:51:21.160759|\n",
      "|888P-10     |COHAB TAIPAS      |PERUS            |2      |10214         |true          |2025-10-20T19:47:10Z|-23.442003         |-46.708443         |2025-10-27 16:47:00|2025-10-27 19:51:21.160759|\n",
      "|958P-10     |VL. OLÍMPIA       |JD. NARDINI      |1      |10216         |true          |2025-10-20T17:11:49Z|-23.59616325       |-46.691351         |2025-10-27 14:12:00|2025-10-27 19:51:21.160759|\n",
      "|958P-10     |VL. OLÍMPIA       |JD. NARDINI      |2      |10217         |true          |2025-10-20T16:33:04Z|-23.501111         |-46.7421805        |2025-10-27 13:33:00|2025-10-27 19:51:21.160759|\n",
      "|958P-10     |VL. OLÍMPIA       |JD. NARDINI      |1      |10218         |true          |2025-10-20T17:11:47Z|-23.52571          |-46.7411           |2025-10-27 14:12:00|2025-10-27 19:51:21.160759|\n",
      "|8047-41     |METRÔ VL. MADALENA|JARAGUÁ          |2      |10222         |true          |2025-10-20T16:33:10Z|-23.454755         |-46.74520475       |2025-10-27 13:33:00|2025-10-27 19:51:21.160759|\n",
      "|8047-41     |METRÔ VL. MADALENA|JARAGUÁ          |2      |10222         |true          |2025-10-20T17:11:38Z|-23.434307         |-46.754795         |2025-10-27 14:12:00|2025-10-27 19:51:21.160759|\n",
      "|8047-41     |METRÔ VL. MADALENA|JARAGUÁ          |2      |10222         |true          |2025-10-20T19:06:18Z|-23.535351         |-46.7125155        |2025-10-27 16:06:00|2025-10-27 19:51:21.160759|\n",
      "|8047-41     |METRÔ VL. MADALENA|JARAGUÁ          |2      |10222         |true          |2025-10-20T19:23:21Z|-23.5268235        |-46.740579         |2025-10-27 16:24:00|2025-10-27 19:51:21.160759|\n",
      "|8047-41     |METRÔ VL. MADALENA|JARAGUÁ          |2      |10223         |true          |2025-10-20T17:23:17Z|-23.4539875        |-46.752594         |2025-10-27 14:23:00|2025-10-27 19:51:21.160759|\n",
      "|8047-41     |METRÔ VL. MADALENA|JARAGUÁ          |1      |10223         |true          |2025-10-20T18:53:30Z|-23.5150105        |-46.7473875        |2025-10-27 15:54:00|2025-10-27 19:51:21.160759|\n",
      "|8047-41     |METRÔ VL. MADALENA|JARAGUÁ          |1      |10223         |true          |2025-10-20T19:06:49Z|-23.531029750000002|-46.731835125      |2025-10-27 16:06:00|2025-10-27 19:51:21.160759|\n",
      "+------------+------------------+-----------------+-------+--------------+--------------+--------------------+-------------------+-------------------+-------------------+--------------------------+\n",
      "only showing top 30 rows\n",
      "\n"
     ]
    }
   ],
   "source": [
    "df_clean = (\n",
    "    df_exploded\n",
    "    .select(\n",
    "        col(\"linha.c\").alias(\"codigo_linha\"),\n",
    "        col(\"linha.lt0\").alias(\"terminal_inicial\"),\n",
    "        col(\"linha.lt1\").alias(\"terminal_final\"),\n",
    "        col(\"linha.sl\").alias(\"sentido\"),\n",
    "        col(\"veiculo.p\").alias(\"codigo_veiculo\"),\n",
    "        col(\"veiculo.a\").alias(\"acessibilidade\"),\n",
    "        col(\"veiculo.ta\").alias(\"ultima_atualizacao\"),\n",
    "        col(\"veiculo.py\").alias(\"latitude\"),\n",
    "        col(\"veiculo.px\").alias(\"longitude\"),\n",
    "        col(\"hr\").alias(\"hora_referencia\")\n",
    "    )\n",
    "    .withColumn(\"hora_referencia\", to_timestamp(\"hora_referencia\"))\n",
    "    .withColumn(\"ingest_timestamp\", current_timestamp())\n",
    "    .dropDuplicates([\"codigo_veiculo\", \"hora_referencia\"])\n",
    ")\n",
    "df_clean.show(30, truncate=False)"
   ]
  },
  {
   "cell_type": "code",
   "execution_count": 22,
   "id": "4438dd4f-2ccb-4c76-a26d-92c8b7d96154",
   "metadata": {},
   "outputs": [],
   "source": [
    "(\n",
    "    df_clean\n",
    "    .repartition(1)  # opcional: reduzir número de arquivos pequenos\n",
    "    .write.mode(\"append\")\n",
    "    .format(\"parquet\")\n",
    "    .partitionBy(\"codigo_linha\")\n",
    "    .save(SILVER_PATH)\n",
    ")"
   ]
  },
  {
   "cell_type": "code",
   "execution_count": null,
   "id": "0f8a9ebc-6804-4b8d-809f-36be9986062f",
   "metadata": {},
   "outputs": [],
   "source": [
    "print(\"✅ Transformação Bronze → Silver concluída para 'posicao'.\")\n",
    "spark.stop()"
   ]
  },
  {
   "cell_type": "code",
   "execution_count": null,
   "id": "fea2a1d4-b238-4697-94bf-2a1d551acca6",
   "metadata": {},
   "outputs": [],
   "source": []
  }
 ],
 "metadata": {
  "kernelspec": {
   "display_name": "Python 3 (ipykernel)",
   "language": "python",
   "name": "python3"
  },
  "language_info": {
   "codemirror_mode": {
    "name": "ipython",
    "version": 3
   },
   "file_extension": ".py",
   "mimetype": "text/x-python",
   "name": "python",
   "nbconvert_exporter": "python",
   "pygments_lexer": "ipython3",
   "version": "3.10.8"
  }
 },
 "nbformat": 4,
 "nbformat_minor": 5
}
