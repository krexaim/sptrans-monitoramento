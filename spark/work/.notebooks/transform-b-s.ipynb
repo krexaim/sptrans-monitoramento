{
 "cells": [
  {
   "cell_type": "code",
   "execution_count": 34,
   "id": "7e198c86-4a12-497e-8da0-aa97ce43b7bb",
   "metadata": {
    "tags": []
   },
   "outputs": [],
   "source": [
    "# ==========================================================\n",
    "# 📘 BRONZE → SILVER (DELTA LAKE)\n",
    "# ==========================================================\n",
    "# Este notebook lê os dados brutos de posição dos ônibus no MinIO (camada Bronze),\n",
    "# transforma-os em formato tabular e escreve incrementalmente em formato Delta\n",
    "# na camada Silver.\n",
    "# =========================================================="
   ]
  },
  {
   "cell_type": "code",
   "execution_count": 35,
   "id": "10234a87-799a-4de5-bb1b-ef6206c2a564",
   "metadata": {},
   "outputs": [
    {
     "name": "stdout",
     "output_type": "stream",
     "text": [
      "Lendo Bronze de: s3a://bronze/posicao/*/*/*/\n",
      "Escrevendo Silver em: s3a://silver/posicao/\n"
     ]
    }
   ],
   "source": [
    "import os\n",
    "from delta import configure_spark_with_delta_pip\n",
    "from pyspark.sql import SparkSession\n",
    "from pyspark.sql.types import *\n",
    "from pyspark.sql.functions import col, explode, current_timestamp, to_timestamp, to_date\n",
    "from delta.tables import DeltaTable\n",
    "\n",
    "MINIO_ENDPOINT = os.getenv(\"MINIO_ENDPOINT_DOCKER\")\n",
    "MINIO_ACCESS_KEY = os.getenv(\"MINIO_ROOT_USER\",)\n",
    "MINIO_SECRET_KEY = os.getenv(\"MINIO_ROOT_PASSWORD\")\n",
    "\n",
    "BRONZE_PATH = \"s3a://bronze/posicao/*/*/*/\"\n",
    "SILVER_PATH = \"s3a://silver/posicao/\"\n",
    "\n",
    "print(f\"Lendo Bronze de: {BRONZE_PATH}\")\n",
    "print(f\"Escrevendo Silver em: {SILVER_PATH}\")"
   ]
  },
  {
   "cell_type": "code",
   "execution_count": 36,
   "id": "52c48b2a-40f3-481d-96d4-2e9431123291",
   "metadata": {},
   "outputs": [
    {
     "data": {
      "text/html": [
       "\n",
       "            <div>\n",
       "                <p><b>SparkSession - in-memory</b></p>\n",
       "                \n",
       "        <div>\n",
       "            <p><b>SparkContext</b></p>\n",
       "\n",
       "            <p><a href=\"http://spark:4040\">Spark UI</a></p>\n",
       "\n",
       "            <dl>\n",
       "              <dt>Version</dt>\n",
       "                <dd><code>v3.3.1</code></dd>\n",
       "              <dt>Master</dt>\n",
       "                <dd><code>local[*]</code></dd>\n",
       "              <dt>AppName</dt>\n",
       "                <dd><code>BronzeToSilver_Delta</code></dd>\n",
       "            </dl>\n",
       "        </div>\n",
       "        \n",
       "            </div>\n",
       "        "
      ],
      "text/plain": [
       "<pyspark.sql.session.SparkSession at 0x71d284b49d50>"
      ]
     },
     "execution_count": 36,
     "metadata": {},
     "output_type": "execute_result"
    }
   ],
   "source": [
    "# Inicialização do Spark com suporte ao Delta Lake e MinIO\n",
    "builder = (\n",
    "    SparkSession.builder.appName(\"BronzeToSilver_Delta\")\n",
    "    .config(\"spark.sql.extensions\", \"io.delta.sql.DeltaSparkSessionExtension\")\n",
    "    .config(\"spark.sql.catalog.spark_catalog\", \"org.apache.spark.sql.delta.catalog.DeltaCatalog\")\n",
    "    .config(\"spark.hadoop.fs.s3a.endpoint\", f\"http://{MINIO_ENDPOINT}\")\n",
    "    .config(\"spark.hadoop.fs.s3a.access.key\", MINIO_ACCESS_KEY)\n",
    "    .config(\"spark.hadoop.fs.s3a.secret.key\", MINIO_SECRET_KEY)\n",
    "    .config(\"spark.hadoop.fs.s3a.path.style.access\", True)\n",
    ")\n",
    "\n",
    "spark = configure_spark_with_delta_pip(builder).getOrCreate()\n",
    "spark"
   ]
  },
  {
   "cell_type": "code",
   "execution_count": 37,
   "id": "c988e881-022c-4260-8d79-c6516ea45957",
   "metadata": {},
   "outputs": [],
   "source": [
    "# Definir schema explícito para evitar erro de inferência\n",
    "\n",
    "schema = StructType([\n",
    "    StructField(\"hr\", StringType(), True),\n",
    "    StructField(\"l\", ArrayType(\n",
    "        StructType([\n",
    "            StructField(\"c\", StringType(), True),   # código visível (ex: \"6L10-10\")\n",
    "            StructField(\"cl\", IntegerType(), True), # código numérico\n",
    "            StructField(\"sl\", IntegerType(), True), # sentido (1 = ida, 2 = volta)\n",
    "            StructField(\"lt0\", StringType(), True), # terminal inicial\n",
    "            StructField(\"lt1\", StringType(), True), # terminal final\n",
    "            StructField(\"qv\", IntegerType(), True), # quantidade de veículos\n",
    "            StructField(\"vs\", ArrayType(\n",
    "                StructType([\n",
    "                    StructField(\"p\", IntegerType(), True),  # código do veículo\n",
    "                    StructField(\"a\", BooleanType(), True),  # acessibilidade\n",
    "                    StructField(\"ta\", StringType(), True),  # timestamp de atualização\n",
    "                    StructField(\"py\", DoubleType(), True),  # latitude\n",
    "                    StructField(\"px\", DoubleType(), True),  # longitude\n",
    "                ])\n",
    "            ), True)\n",
    "        ])\n",
    "    ), True)\n",
    "])"
   ]
  },
  {
   "cell_type": "code",
   "execution_count": 38,
   "id": "00a29842-23ea-4037-baba-59320516095b",
   "metadata": {},
   "outputs": [
    {
     "name": "stdout",
     "output_type": "stream",
     "text": [
      "root\n",
      " |-- hr: string (nullable = true)\n",
      " |-- l: array (nullable = true)\n",
      " |    |-- element: struct (containsNull = true)\n",
      " |    |    |-- c: string (nullable = true)\n",
      " |    |    |-- cl: integer (nullable = true)\n",
      " |    |    |-- sl: integer (nullable = true)\n",
      " |    |    |-- lt0: string (nullable = true)\n",
      " |    |    |-- lt1: string (nullable = true)\n",
      " |    |    |-- qv: integer (nullable = true)\n",
      " |    |    |-- vs: array (nullable = true)\n",
      " |    |    |    |-- element: struct (containsNull = true)\n",
      " |    |    |    |    |-- p: integer (nullable = true)\n",
      " |    |    |    |    |-- a: boolean (nullable = true)\n",
      " |    |    |    |    |-- ta: string (nullable = true)\n",
      " |    |    |    |    |-- py: double (nullable = true)\n",
      " |    |    |    |    |-- px: double (nullable = true)\n",
      "\n"
     ]
    }
   ],
   "source": [
    "df_raw = spark.read.option(\"multiline\", True).schema(schema).json(BRONZE_PATH)\n",
    "df_raw.printSchema()"
   ]
  },
  {
   "cell_type": "code",
   "execution_count": 39,
   "id": "b015b9e8-d990-4bd8-94ba-4f5fbc3f0580",
   "metadata": {},
   "outputs": [
    {
     "name": "stdout",
     "output_type": "stream",
     "text": [
      "+------------------+------------+-------+--------------------+-----------------+--------------+--------------+-------------------+-------------------+-------------------+-------------------+----------+-----------+-------------+--------------------+\n",
      "|codigo_linha_texto|codigo_linha|sentido|    terminal_inicial|   terminal_final|codigo_veiculo|acessibilidade| ultima_atualizacao|           latitude|          longitude|    hora_referencia|  data_ref|data_coleta|data_ingestao|    ingest_timestamp|\n",
      "+------------------+------------+-------+--------------------+-----------------+--------------+--------------+-------------------+-------------------+-------------------+-------------------+----------+-----------+-------------+--------------------+\n",
      "|           414P-10|       33873|      2|TERM. NORTE METRÔ...|   VL. INDUSTRIAL|          3117|         false|2025-10-28 00:40:49|        -23.5369965|         -46.563503|2025-10-29 21:41:00|2025-10-28| 2025-10-29|   2025-10-29|2025-10-29 23:44:...|\n",
      "|           4312-10|       34940|      2|TERM. PQ. D. PEDR...|      JD. MARÍLIA|          3203|         false|2025-10-29 23:18:05|        -23.5702925|-46.489608000000004|2025-10-29 20:18:00|2025-10-29| 2025-10-29|   2025-10-29|2025-10-29 23:44:...|\n",
      "|           GUIN-10|        3008|      1|             GUINCHO|          GUINCHO|          7302|         false|2025-10-21 00:34:16|-23.692902500000002|         -46.778492|2025-10-29 21:34:00|2025-10-21| 2025-10-29|   2025-10-29|2025-10-29 23:44:...|\n",
      "|           189L-10|       35218|      2|                LAPA|CONEXÃO VL. IÓRIO|         10001|          true|2025-10-21 00:53:54|        -23.5179265|         -46.702667|2025-10-29 21:54:00|2025-10-21| 2025-10-29|   2025-10-29|2025-10-29 23:44:...|\n",
      "|           189L-10|       35218|      2|                LAPA|CONEXÃO VL. IÓRIO|         10003|          true|2025-10-28 00:40:44|-23.491615250000002|          -46.70981|2025-10-29 21:41:00|2025-10-28| 2025-10-29|   2025-10-29|2025-10-29 23:44:...|\n",
      "|           189L-10|       35218|      2|                LAPA|CONEXÃO VL. IÓRIO|         10004|          true|2025-10-21 01:02:06|       -23.49102025|          -46.70991|2025-10-29 22:02:00|2025-10-21| 2025-10-29|   2025-10-29|2025-10-29 23:44:...|\n",
      "|           189L-10|        2450|      1|                LAPA|CONEXÃO VL. IÓRIO|         10004|          true|2025-10-21 01:39:31|         -23.517861|         -46.702819|2025-10-29 22:39:00|2025-10-21| 2025-10-29|   2025-10-29|2025-10-29 23:44:...|\n",
      "|           189L-10|        2450|      1|                LAPA|CONEXÃO VL. IÓRIO|         10006|          true|2025-10-29 23:14:01|-23.486610499999998|-46.710868000000005|2025-10-29 20:14:00|2025-10-29| 2025-10-29|   2025-10-29|2025-10-29 23:44:...|\n",
      "|           189L-10|        2450|      1|                LAPA|CONEXÃO VL. IÓRIO|         10007|          true|2025-10-21 00:54:07|-23.486610499999998|-46.710868000000005|2025-10-29 21:54:00|2025-10-21| 2025-10-29|   2025-10-29|2025-10-29 23:44:...|\n",
      "|           189L-10|       35218|      2|                LAPA|CONEXÃO VL. IÓRIO|         10007|          true|2025-10-21 01:39:20|-23.491615250000002|          -46.70981|2025-10-29 22:39:00|2025-10-21| 2025-10-29|   2025-10-29|2025-10-29 23:44:...|\n",
      "+------------------+------------+-------+--------------------+-----------------+--------------+--------------+-------------------+-------------------+-------------------+-------------------+----------+-----------+-------------+--------------------+\n",
      "only showing top 10 rows\n",
      "\n"
     ]
    }
   ],
   "source": [
    "df_exploded = (\n",
    "    df_raw\n",
    "    .withColumn(\"linha\", explode(col(\"l\")))\n",
    "    .withColumn(\"veiculo\", explode(col(\"linha.vs\")))\n",
    ")\n",
    "\n",
    "df_clean = (\n",
    "    df_exploded.select(\n",
    "        col(\"linha.c\").alias(\"codigo_linha_texto\"),\n",
    "        col(\"linha.cl\").alias(\"codigo_linha\"),\n",
    "        col(\"linha.sl\").alias(\"sentido\"),\n",
    "        col(\"linha.lt0\").alias(\"terminal_inicial\"),\n",
    "        col(\"linha.lt1\").alias(\"terminal_final\"),\n",
    "        col(\"veiculo.p\").alias(\"codigo_veiculo\"),\n",
    "        col(\"veiculo.a\").alias(\"acessibilidade\"),\n",
    "        to_timestamp(col(\"veiculo.ta\")).alias(\"ultima_atualizacao\"),\n",
    "        col(\"veiculo.py\").alias(\"latitude\"),\n",
    "        col(\"veiculo.px\").alias(\"longitude\"),\n",
    "        to_timestamp(col(\"hr\")).alias(\"hora_referencia\"),\n",
    "    )\n",
    "    .dropDuplicates([\"codigo_veiculo\", \"hora_referencia\"])\n",
    "    .withColumn(\"data_ref\", to_date(col(\"ultima_atualizacao\")))\n",
    "    .withColumn(\"data_coleta\", to_date(col(\"hora_referencia\")))\n",
    "    .withColumn(\"data_ingestao\", to_date(current_timestamp()))\n",
    "    .withColumn(\"ingest_timestamp\", current_timestamp())\n",
    ")\n",
    "df_clean.show(10)"
   ]
  },
  {
   "cell_type": "code",
   "execution_count": 40,
   "id": "2d493d51-7402-4b2b-bf4d-ea828f7e4e02",
   "metadata": {},
   "outputs": [
    {
     "name": "stdout",
     "output_type": "stream",
     "text": [
      "🆕 Criando tabela Delta inicial...\n"
     ]
    }
   ],
   "source": [
    "# Escrita ou merge no Delta Lake\n",
    "\n",
    "if DeltaTable.isDeltaTable(spark, SILVER_PATH):\n",
    "    print(\"⚙️ Atualizando tabela Delta existente...\")\n",
    "    delta_table = DeltaTable.forPath(spark, SILVER_PATH)\n",
    "    (\n",
    "        delta_table.alias(\"t\")\n",
    "        .merge(\n",
    "            df_clean.alias(\"s\"),\n",
    "            \"t.codigo_veiculo = s.codigo_veiculo AND t.data_ref = s.data_ref\"\n",
    "        )\n",
    "        .whenMatchedUpdateAll()\n",
    "        .whenNotMatchedInsertAll()\n",
    "        .execute()\n",
    "    )\n",
    "else:\n",
    "    print(\"🆕 Criando tabela Delta inicial...\")\n",
    "    (\n",
    "        df_clean\n",
    "        .write\n",
    "        .format(\"delta\")\n",
    "        .mode(\"append\")  # evita sobrescrever\n",
    "        .partitionBy(\"codigo_linha\", \"data_ref\")\n",
    "        .save(SILVER_PATH)\n",
    "    )"
   ]
  },
  {
   "cell_type": "code",
   "execution_count": 41,
   "id": "d028f0d5-4d4b-4094-b44d-31d306bd4693",
   "metadata": {},
   "outputs": [
    {
     "name": "stdout",
     "output_type": "stream",
     "text": [
      "Total de registros na Silver:\n",
      "68547\n",
      "+------------------+------------+-------+----------------+--------------------+--------------+--------------+-------------------+------------+-----------+-------------------+----------+-----------+-------------+--------------------+\n",
      "|codigo_linha_texto|codigo_linha|sentido|terminal_inicial|      terminal_final|codigo_veiculo|acessibilidade| ultima_atualizacao|    latitude|  longitude|    hora_referencia|  data_ref|data_coleta|data_ingestao|    ingest_timestamp|\n",
      "+------------------+------------+-------+----------------+--------------------+--------------+--------------+-------------------+------------+-----------+-------------------+----------+-----------+-------------+--------------------+\n",
      "|           342N-10|        1003|      1|   E.T. ITAQUERA|COHAB PRES. JUSCE...|         47311|          true|2025-10-29 23:14:46|-23.56257475|-46.4166955|2025-10-29 20:14:00|2025-10-29| 2025-10-29|   2025-10-29|2025-10-29 23:44:...|\n",
      "|           342N-10|        1003|      1|   E.T. ITAQUERA|COHAB PRES. JUSCE...|         47708|          true|2025-10-29 23:14:33|  -23.565621|-46.3993305|2025-10-29 20:14:00|2025-10-29| 2025-10-29|   2025-10-29|2025-10-29 23:44:...|\n",
      "|           342N-10|        1003|      1|   E.T. ITAQUERA|COHAB PRES. JUSCE...|         47708|          true|2025-10-29 23:18:18|  -23.565621|-46.3993305|2025-10-29 20:18:00|2025-10-29| 2025-10-29|   2025-10-29|2025-10-29 23:44:...|\n",
      "|           342N-10|        1003|      1|   E.T. ITAQUERA|COHAB PRES. JUSCE...|         47791|          true|2025-10-29 23:18:20|  -23.562878|-46.3993175|2025-10-29 20:18:00|2025-10-29| 2025-10-29|   2025-10-29|2025-10-29 23:44:...|\n",
      "|           3712-10|        1009|      1|  METRÔ ITAQUERA|        JD. SÃO JOÃO|         47027|          true|2025-10-21 01:39:09| -23.5418825|-46.4703705|2025-10-29 22:39:00|2025-10-21| 2025-10-29|   2025-10-29|2025-10-29 23:44:...|\n",
      "+------------------+------------+-------+----------------+--------------------+--------------+--------------+-------------------+------------+-----------+-------------------+----------+-----------+-------------+--------------------+\n",
      "only showing top 5 rows\n",
      "\n"
     ]
    }
   ],
   "source": [
    "# Verificação de resultado\n",
    "\n",
    "silver_delta = DeltaTable.forPath(spark, SILVER_PATH)\n",
    "df_result = silver_delta.toDF()\n",
    "\n",
    "print(\"Total de registros na Silver:\")\n",
    "print(df_result.count())\n",
    "\n",
    "df_result.show(5)"
   ]
  }
 ],
 "metadata": {
  "kernelspec": {
   "display_name": "Python 3 (ipykernel)",
   "language": "python",
   "name": "python3"
  },
  "language_info": {
   "codemirror_mode": {
    "name": "ipython",
    "version": 3
   },
   "file_extension": ".py",
   "mimetype": "text/x-python",
   "name": "python",
   "nbconvert_exporter": "python",
   "pygments_lexer": "ipython3",
   "version": "3.10.8"
  }
 },
 "nbformat": 4,
 "nbformat_minor": 5
}
