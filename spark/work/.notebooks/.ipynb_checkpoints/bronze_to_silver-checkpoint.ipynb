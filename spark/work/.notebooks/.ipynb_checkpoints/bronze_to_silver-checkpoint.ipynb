{
 "cells": [
  {
   "cell_type": "code",
   "execution_count": 1,
   "id": "3d2d4158-6a52-436d-b114-8405b5868cf6",
   "metadata": {},
   "outputs": [],
   "source": [
    "from pyspark.sql import SparkSession\n",
    "from pyspark.sql.functions import col, explode, current_timestamp, lit, to_timestamp\n",
    "from pyspark.sql.types import *\n",
    "import os"
   ]
  },
  {
   "cell_type": "code",
   "execution_count": 2,
   "id": "86c2dbe4-42be-4e32-b53a-7b011bce0535",
   "metadata": {},
   "outputs": [],
   "source": [
    "MINIO_ENDPOINT = os.getenv(\"MINIO_ENDPOINT_DOCKER\")\n",
    "MINIO_ACCESS_KEY = os.getenv(\"MINIO_ROOT_USER\",)\n",
    "MINIO_SECRET_KEY = os.getenv(\"MINIO_ROOT_PASSWORD\")\n",
    "\n",
    "BRONZE_PATH = \"s3a://bronze/posicao/*/*/*/\"\n",
    "SILVER_PATH = \"s3a://silver/posicao/\""
   ]
  },
  {
   "cell_type": "code",
   "execution_count": 3,
   "id": "d6f9b08c-6bb7-4289-a9c2-1011c6d291f0",
   "metadata": {
    "tags": []
   },
   "outputs": [],
   "source": [
    "builder = (\n",
    "    SparkSession.builder.appName(\"BronzeToSilver_Delta\")\n",
    "    .config(\"spark.sql.extensions\", \"io.delta.sql.DeltaSparkSessionExtension\")\n",
    "    .config(\"spark.sql.catalog.spark_catalog\", \"org.apache.spark.sql.delta.catalog.DeltaCatalog\")\n",
    "    .config(\"spark.hadoop.fs.s3a.endpoint\", f\"http://{MINIO_ENDPOINT}\")\n",
    "    .config(\"spark.hadoop.fs.s3a.access.key\", MINIO_ACCESS_KEY)\n",
    "    .config(\"spark.hadoop.fs.s3a.secret.key\", MINIO_SECRET_KEY)\n",
    "    .config(\"spark.hadoop.fs.s3a.path.style.access\", True)\n",
    ")\n",
    "\n",
    "spark = configure_spark_with_delta_pip(builder).getOrCreate()\n",
    "spark"
   ]
  },
  {
   "cell_type": "code",
   "execution_count": 4,
   "id": "c80f7248-6829-421f-9e99-8fb3a8fe1949",
   "metadata": {},
   "outputs": [],
   "source": [
    "schema = StructType([\n",
    "    StructField(\"hr\", StringType(), True),\n",
    "    StructField(\"l\", ArrayType(\n",
    "        StructType([\n",
    "            StructField(\"c\", StringType(), True),   # código visível (ex: \"6L10-10\")\n",
    "            StructField(\"cl\", IntegerType(), True), # código numérico\n",
    "            StructField(\"sl\", IntegerType(), True), # sentido (1 = ida, 2 = volta)\n",
    "            StructField(\"lt0\", StringType(), True), # terminal inicial\n",
    "            StructField(\"lt1\", StringType(), True), # terminal final\n",
    "            StructField(\"qv\", IntegerType(), True), # quantidade de veículos\n",
    "            StructField(\"vs\", ArrayType(\n",
    "                StructType([\n",
    "                    StructField(\"p\", IntegerType(), True),  # código do veículo\n",
    "                    StructField(\"a\", BooleanType(), True),  # acessibilidade\n",
    "                    StructField(\"ta\", StringType(), True),  # timestamp de atualização\n",
    "                    StructField(\"py\", DoubleType(), True),  # latitude\n",
    "                    StructField(\"px\", DoubleType(), True),  # longitude\n",
    "                ])\n",
    "            ), True)\n",
    "        ])\n",
    "    ), True)\n",
    "])"
   ]
  },
  {
   "cell_type": "code",
   "execution_count": 5,
   "id": "7cdaf995-2b2c-4b16-822a-834f4e5c762c",
   "metadata": {},
   "outputs": [],
   "source": [
    "df_raw = spark.read.option(\"multiline\", True).json(BRONZE_PATH)"
   ]
  },
  {
   "cell_type": "code",
   "execution_count": 6,
   "id": "cd6ede60-6b97-4b2c-b46f-625ec98d9592",
   "metadata": {},
   "outputs": [],
   "source": [
    "df_exploded = (\n",
    "    df_raw\n",
    "    .withColumn(\"linha\", explode(col(\"l\")))\n",
    "    .withColumn(\"veiculo\", explode(col(\"linha.vs\")))\n",
    ")"
   ]
  },
  {
   "cell_type": "code",
   "execution_count": 7,
   "id": "042e1d2a-439f-4fa4-bd38-2d0476b040a2",
   "metadata": {},
   "outputs": [
    {
     "name": "stdout",
     "output_type": "stream",
     "text": [
      "+------------+------------------------+---------------------+-------+--------------+--------------+--------------------+-------------------+-------------------+-------------------+--------------------------+\n",
      "|codigo_linha|terminal_inicial        |terminal_final       |sentido|codigo_veiculo|acessibilidade|ultima_atualizacao  |latitude           |longitude          |hora_referencia    |ingest_timestamp          |\n",
      "+------------+------------------------+---------------------+-------+--------------+--------------+--------------------+-------------------+-------------------+-------------------+--------------------------+\n",
      "|414P-10     |TERM. NORTE METRÔ CARRÃO|VL. INDUSTRIAL       |2      |3117          |false         |2025-10-21T00:34:06Z|-23.536710499999998|-46.565512625000004|2025-10-28 21:34:00|2025-10-28 00:39:38.808282|\n",
      "|414P-10     |TERM. NORTE METRÔ CARRÃO|VL. INDUSTRIAL       |1      |3117          |false         |2025-10-21T01:39:35Z|-23.610801000000002|-46.5299455        |2025-10-28 22:39:00|2025-10-28 00:39:38.808282|\n",
      "|189L-10     |LAPA                    |CONEXÃO VL. IÓRIO    |2      |10001         |true          |2025-10-21T00:33:55Z|-23.487222250000002|-46.7106           |2025-10-28 21:34:00|2025-10-28 00:39:38.808282|\n",
      "|189L-10     |LAPA                    |CONEXÃO VL. IÓRIO    |2      |10001         |true          |2025-10-21T00:53:54Z|-23.5179265        |-46.702667         |2025-10-28 21:54:00|2025-10-28 00:39:38.808282|\n",
      "|189L-10     |LAPA                    |CONEXÃO VL. IÓRIO    |2      |10001         |true          |2025-10-21T01:02:01Z|-23.5179265        |-46.702667         |2025-10-28 22:02:00|2025-10-28 00:39:38.808282|\n",
      "|189L-10     |LAPA                    |CONEXÃO VL. IÓRIO    |2      |10003         |true          |2025-10-21T00:54:02Z|-23.486798999999998|-46.7106505        |2025-10-28 21:54:00|2025-10-28 00:39:38.808282|\n",
      "|189L-10     |LAPA                    |CONEXÃO VL. IÓRIO    |1      |10005         |true          |2025-10-21T00:54:17Z|-23.490379         |-46.710350250000005|2025-10-28 21:54:00|2025-10-28 00:39:38.808282|\n",
      "|189L-10     |LAPA                    |CONEXÃO VL. IÓRIO    |1      |10007         |true          |2025-10-21T00:54:07Z|-23.486610499999998|-46.710868000000005|2025-10-28 21:54:00|2025-10-28 00:39:38.808282|\n",
      "|189L-10     |LAPA                    |CONEXÃO VL. IÓRIO    |1      |10007         |true          |2025-10-21T01:02:16Z|-23.486610499999998|-46.710868000000005|2025-10-28 22:02:00|2025-10-28 00:39:38.808282|\n",
      "|189L-10     |LAPA                    |CONEXÃO VL. IÓRIO    |2      |10007         |true          |2025-10-21T01:39:20Z|-23.491615250000002|-46.70981          |2025-10-28 22:39:00|2025-10-28 00:39:38.808282|\n",
      "|189L-10     |LAPA                    |CONEXÃO VL. IÓRIO    |2      |10008         |true          |2025-10-21T00:34:19Z|-23.511091         |-46.705378749999994|2025-10-28 21:34:00|2025-10-28 00:39:38.808282|\n",
      "|189L-10     |LAPA                    |CONEXÃO VL. IÓRIO    |1      |10010         |true          |2025-10-20T22:00:03Z|-23.517743000000003|-46.7030935        |2025-10-28 19:00:00|2025-10-28 00:39:38.808282|\n",
      "|8008-10     |TERM. PIRITUBA          |HAB. TURÍSTICA       |2      |10202         |true          |2025-10-21T00:33:54Z|-23.475496999999997|-46.7565585        |2025-10-28 21:34:00|2025-10-28 00:39:38.808282|\n",
      "|8008-10     |TERM. PIRITUBA          |HAB. TURÍSTICA       |1      |10202         |true          |2025-10-21T01:39:33Z|-23.483818         |-46.753556         |2025-10-28 22:39:00|2025-10-28 00:39:38.808282|\n",
      "|8008-10     |TERM. PIRITUBA          |HAB. TURÍSTICA       |2      |10203         |true          |2025-10-21T01:39:27Z|-23.4750545        |-46.7562055        |2025-10-28 22:39:00|2025-10-28 00:39:38.808282|\n",
      "|8008-10     |TERM. PIRITUBA          |HAB. TURÍSTICA       |1      |10204         |true          |2025-10-20T22:00:13Z|-23.4783885        |-46.7478105        |2025-10-28 19:00:00|2025-10-28 00:39:38.808282|\n",
      "|8008-10     |TERM. PIRITUBA          |HAB. TURÍSTICA       |1      |10204         |true          |2025-10-21T01:02:14Z|-23.489049         |-46.7497065        |2025-10-28 22:02:00|2025-10-28 00:39:38.808282|\n",
      "|8008-10     |TERM. PIRITUBA          |HAB. TURÍSTICA       |2      |10205         |true          |2025-10-21T00:34:08Z|-23.4754595        |-46.756460000000004|2025-10-28 21:34:00|2025-10-28 00:39:38.808282|\n",
      "|948A-10     |METRÔ BARRA FUNDA       |VL. ZATT             |2      |10207         |true          |2025-10-21T00:34:03Z|-23.4780065        |-46.713728         |2025-10-28 21:34:00|2025-10-28 00:39:38.808282|\n",
      "|948A-10     |METRÔ BARRA FUNDA       |VL. ZATT             |2      |10207         |true          |2025-10-21T00:53:55Z|-23.4694535        |-46.7135935        |2025-10-28 21:54:00|2025-10-28 00:39:38.808282|\n",
      "|948A-10     |METRÔ BARRA FUNDA       |VL. ZATT             |2      |10207         |true          |2025-10-21T01:02:00Z|-23.4694535        |-46.7135935        |2025-10-28 22:02:00|2025-10-28 00:39:38.808282|\n",
      "|948A-10     |METRÔ BARRA FUNDA       |VL. ZATT             |2      |10208         |true          |2025-10-21T00:53:55Z|-23.484783         |-46.723133         |2025-10-28 21:54:00|2025-10-28 00:39:38.808282|\n",
      "|8009-31     |TERM. PIRITUBA          |CID. D'ABRIL 3ª GLEBA|2      |10209         |true          |2025-10-21T00:53:37Z|-23.442545250000002|-46.72600275       |2025-10-28 21:54:00|2025-10-28 00:39:38.808282|\n",
      "|948A-10     |METRÔ BARRA FUNDA       |VL. ZATT             |2      |10210         |true          |2025-10-20T22:00:20Z|-23.526037000000002|-46.676320000000004|2025-10-28 19:00:00|2025-10-28 00:39:38.808282|\n",
      "|948A-10     |METRÔ BARRA FUNDA       |VL. ZATT             |1      |10210         |true          |2025-10-21T00:54:04Z|-23.5221425        |-46.700432         |2025-10-28 21:54:00|2025-10-28 00:39:38.808282|\n",
      "|958P-10     |VL. OLÍMPIA             |JD. NARDINI          |1      |10211         |true          |2025-10-21T00:34:20Z|-23.577509125      |-46.686852         |2025-10-28 21:34:00|2025-10-28 00:39:38.808282|\n",
      "|958P-10     |VL. OLÍMPIA             |JD. NARDINI          |1      |10211         |true          |2025-10-21T00:54:14Z|-23.59616325       |-46.691351         |2025-10-28 21:54:00|2025-10-28 00:39:38.808282|\n",
      "|958P-10     |VL. OLÍMPIA             |JD. NARDINI          |1      |10211         |true          |2025-10-21T01:01:36Z|-23.59616325       |-46.691351         |2025-10-28 22:02:00|2025-10-28 00:39:38.808282|\n",
      "|888P-10     |COHAB TAIPAS            |PERUS                |2      |10214         |true          |2025-10-21T01:02:03Z|-23.4490265        |-46.73479525       |2025-10-28 22:02:00|2025-10-28 00:39:38.808282|\n",
      "|958P-10     |VL. OLÍMPIA             |JD. NARDINI          |2      |10215         |true          |2025-10-21T00:34:11Z|-23.480489         |-46.758402000000004|2025-10-28 21:34:00|2025-10-28 00:39:38.808282|\n",
      "+------------+------------------------+---------------------+-------+--------------+--------------+--------------------+-------------------+-------------------+-------------------+--------------------------+\n",
      "only showing top 30 rows\n",
      "\n"
     ]
    }
   ],
   "source": [
    "df_clean = (\n",
    "    df_exploded\n",
    "    .select(\n",
    "        col(\"linha.c\").alias(\"codigo_linha\"),\n",
    "        col(\"linha.lt0\").alias(\"terminal_inicial\"),\n",
    "        col(\"linha.lt1\").alias(\"terminal_final\"),\n",
    "        col(\"linha.sl\").alias(\"sentido\"),\n",
    "        col(\"veiculo.p\").alias(\"codigo_veiculo\"),\n",
    "        col(\"veiculo.a\").alias(\"acessibilidade\"),\n",
    "        col(\"veiculo.ta\").alias(\"ultima_atualizacao\"),\n",
    "        col(\"veiculo.py\").alias(\"latitude\"),\n",
    "        col(\"veiculo.px\").alias(\"longitude\"),\n",
    "        col(\"hr\").alias(\"hora_referencia\")\n",
    "    )\n",
    "    .withColumn(\"hora_referencia\", to_timestamp(\"hora_referencia\"))\n",
    "    .withColumn(\"ingest_timestamp\", current_timestamp())\n",
    "    .dropDuplicates([\"codigo_veiculo\", \"hora_referencia\"])\n",
    ")\n",
    "df_clean.show(30, truncate=False)"
   ]
  },
  {
   "cell_type": "code",
   "execution_count": 8,
   "id": "4438dd4f-2ccb-4c76-a26d-92c8b7d96154",
   "metadata": {},
   "outputs": [],
   "source": [
    "if DeltaTable.isDeltaTable(spark, SILVER_PATH):\n",
    "    delta_table = DeltaTable.forPath(spark, SILVER_PATH)\n",
    "    (\n",
    "        delta_table.alias(\"t\")\n",
    "        .merge(df_clean.alias(\"s\"),\n",
    "               \"t.codigo_veiculo = s.codigo_veiculo AND t.hora_referencia = s.hora_referencia\")\n",
    "        .whenMatchedUpdateAll()\n",
    "        .whenNotMatchedInsertAll()\n",
    "        .execute()\n",
    "    )\n",
    "else:\n",
    "    df_clean.write.format(\"delta\").mode(\"overwrite\").save(SILVER_PATH)"
   ]
  },
  {
   "cell_type": "code",
   "execution_count": 9,
   "id": "0f8a9ebc-6804-4b8d-809f-36be9986062f",
   "metadata": {},
   "outputs": [
    {
     "name": "stdout",
     "output_type": "stream",
     "text": [
      "✅ Transformação Bronze → Silver concluída para 'posicao'.\n"
     ]
    }
   ],
   "source": [
    "print(\"✅ Transformação Bronze → Silver concluída para 'posicao'.\")\n",
    "spark.stop()"
   ]
  },
  {
   "cell_type": "code",
   "execution_count": null,
   "id": "fea2a1d4-b238-4697-94bf-2a1d551acca6",
   "metadata": {},
   "outputs": [],
   "source": []
  }
 ],
 "metadata": {
  "kernelspec": {
   "display_name": "Python 3 (ipykernel)",
   "language": "python",
   "name": "python3"
  },
  "language_info": {
   "codemirror_mode": {
    "name": "ipython",
    "version": 3
   },
   "file_extension": ".py",
   "mimetype": "text/x-python",
   "name": "python",
   "nbconvert_exporter": "python",
   "pygments_lexer": "ipython3",
   "version": "3.10.8"
  }
 },
 "nbformat": 4,
 "nbformat_minor": 5
}
