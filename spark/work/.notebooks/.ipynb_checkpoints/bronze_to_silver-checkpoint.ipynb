{
 "cells": [
  {
   "cell_type": "code",
   "execution_count": 1,
   "id": "3d2d4158-6a52-436d-b114-8405b5868cf6",
   "metadata": {},
   "outputs": [],
   "source": [
    "from pyspark.sql import SparkSession\n",
    "from pyspark.sql.functions import col, explode, current_timestamp, lit, to_timestamp\n",
    "from pyspark.sql.types import *\n",
    "import os"
   ]
  },
  {
   "cell_type": "code",
   "execution_count": 2,
   "id": "86c2dbe4-42be-4e32-b53a-7b011bce0535",
   "metadata": {},
   "outputs": [],
   "source": [
    "MINIO_ENDPOINT = os.getenv(\"MINIO_ENDPOINT_DOCKER\")\n",
    "MINIO_ACCESS_KEY = os.getenv(\"MINIO_ROOT_USER\",)\n",
    "MINIO_SECRET_KEY = os.getenv(\"MINIO_ROOT_PASSWORD\")\n",
    "\n",
    "BRONZE_PATH = \"s3a://bronze/posicao/*/*/*/\"\n",
    "SILVER_PATH = \"s3a://silver/posicao/\""
   ]
  },
  {
   "cell_type": "code",
   "execution_count": 3,
   "id": "d6f9b08c-6bb7-4289-a9c2-1011c6d291f0",
   "metadata": {
    "tags": []
   },
   "outputs": [],
   "source": [
    "spark = (\n",
    "    SparkSession.builder.appName(\"Transform_Posicao_Bronze_to_Silver\")\n",
    "    .config(\"spark.hadoop.fs.s3a.endpoint\", f\"http://{MINIO_ENDPOINT}\")\n",
    "    .config(\"spark.hadoop.fs.s3a.access.key\", MINIO_ACCESS_KEY)\n",
    "    .config(\"spark.hadoop.fs.s3a.secret.key\", MINIO_SECRET_KEY)\n",
    "    .config(\"spark.hadoop.fs.s3a.path.style.access\", True)\n",
    "    .getOrCreate()\n",
    ")"
   ]
  },
  {
   "cell_type": "code",
   "execution_count": 4,
   "id": "c80f7248-6829-421f-9e99-8fb3a8fe1949",
   "metadata": {},
   "outputs": [
    {
     "ename": "NameError",
     "evalue": "name 'ArrayType' is not defined",
     "output_type": "error",
     "traceback": [
      "\u001b[0;31m---------------------------------------------------------------------------\u001b[0m",
      "\u001b[0;31mNameError\u001b[0m                                 Traceback (most recent call last)",
      "Cell \u001b[0;32mIn[4], line 3\u001b[0m\n\u001b[1;32m      1\u001b[0m schema \u001b[38;5;241m=\u001b[39m StructType([\n\u001b[1;32m      2\u001b[0m     StructField(\u001b[38;5;124m\"\u001b[39m\u001b[38;5;124mhr\u001b[39m\u001b[38;5;124m\"\u001b[39m, StringType(), \u001b[38;5;28;01mTrue\u001b[39;00m),\n\u001b[0;32m----> 3\u001b[0m     StructField(\u001b[38;5;124m\"\u001b[39m\u001b[38;5;124ml\u001b[39m\u001b[38;5;124m\"\u001b[39m, \u001b[43mArrayType\u001b[49m(\n\u001b[1;32m      4\u001b[0m         StructType([\n\u001b[1;32m      5\u001b[0m             StructField(\u001b[38;5;124m\"\u001b[39m\u001b[38;5;124mc\u001b[39m\u001b[38;5;124m\"\u001b[39m, StringType(), \u001b[38;5;28;01mTrue\u001b[39;00m),   \u001b[38;5;66;03m# código visível (ex: \"6L10-10\")\u001b[39;00m\n\u001b[1;32m      6\u001b[0m             StructField(\u001b[38;5;124m\"\u001b[39m\u001b[38;5;124mcl\u001b[39m\u001b[38;5;124m\"\u001b[39m, IntegerType(), \u001b[38;5;28;01mTrue\u001b[39;00m), \u001b[38;5;66;03m# código numérico\u001b[39;00m\n\u001b[1;32m      7\u001b[0m             StructField(\u001b[38;5;124m\"\u001b[39m\u001b[38;5;124msl\u001b[39m\u001b[38;5;124m\"\u001b[39m, IntegerType(), \u001b[38;5;28;01mTrue\u001b[39;00m), \u001b[38;5;66;03m# sentido (1 = ida, 2 = volta)\u001b[39;00m\n\u001b[1;32m      8\u001b[0m             StructField(\u001b[38;5;124m\"\u001b[39m\u001b[38;5;124mlt0\u001b[39m\u001b[38;5;124m\"\u001b[39m, StringType(), \u001b[38;5;28;01mTrue\u001b[39;00m), \u001b[38;5;66;03m# terminal inicial\u001b[39;00m\n\u001b[1;32m      9\u001b[0m             StructField(\u001b[38;5;124m\"\u001b[39m\u001b[38;5;124mlt1\u001b[39m\u001b[38;5;124m\"\u001b[39m, StringType(), \u001b[38;5;28;01mTrue\u001b[39;00m), \u001b[38;5;66;03m# terminal final\u001b[39;00m\n\u001b[1;32m     10\u001b[0m             StructField(\u001b[38;5;124m\"\u001b[39m\u001b[38;5;124mqv\u001b[39m\u001b[38;5;124m\"\u001b[39m, IntegerType(), \u001b[38;5;28;01mTrue\u001b[39;00m), \u001b[38;5;66;03m# quantidade de veículos\u001b[39;00m\n\u001b[1;32m     11\u001b[0m             StructField(\u001b[38;5;124m\"\u001b[39m\u001b[38;5;124mvs\u001b[39m\u001b[38;5;124m\"\u001b[39m, ArrayType(\n\u001b[1;32m     12\u001b[0m                 StructType([\n\u001b[1;32m     13\u001b[0m                     StructField(\u001b[38;5;124m\"\u001b[39m\u001b[38;5;124mp\u001b[39m\u001b[38;5;124m\"\u001b[39m, IntegerType(), \u001b[38;5;28;01mTrue\u001b[39;00m),  \u001b[38;5;66;03m# código do veículo\u001b[39;00m\n\u001b[1;32m     14\u001b[0m                     StructField(\u001b[38;5;124m\"\u001b[39m\u001b[38;5;124ma\u001b[39m\u001b[38;5;124m\"\u001b[39m, BooleanType(), \u001b[38;5;28;01mTrue\u001b[39;00m),  \u001b[38;5;66;03m# acessibilidade\u001b[39;00m\n\u001b[1;32m     15\u001b[0m                     StructField(\u001b[38;5;124m\"\u001b[39m\u001b[38;5;124mta\u001b[39m\u001b[38;5;124m\"\u001b[39m, StringType(), \u001b[38;5;28;01mTrue\u001b[39;00m),  \u001b[38;5;66;03m# timestamp de atualização\u001b[39;00m\n\u001b[1;32m     16\u001b[0m                     StructField(\u001b[38;5;124m\"\u001b[39m\u001b[38;5;124mpy\u001b[39m\u001b[38;5;124m\"\u001b[39m, DoubleType(), \u001b[38;5;28;01mTrue\u001b[39;00m),  \u001b[38;5;66;03m# latitude\u001b[39;00m\n\u001b[1;32m     17\u001b[0m                     StructField(\u001b[38;5;124m\"\u001b[39m\u001b[38;5;124mpx\u001b[39m\u001b[38;5;124m\"\u001b[39m, DoubleType(), \u001b[38;5;28;01mTrue\u001b[39;00m),  \u001b[38;5;66;03m# longitude\u001b[39;00m\n\u001b[1;32m     18\u001b[0m                 ])\n\u001b[1;32m     19\u001b[0m             ), \u001b[38;5;28;01mTrue\u001b[39;00m)\n\u001b[1;32m     20\u001b[0m         ])\n\u001b[1;32m     21\u001b[0m     ), \u001b[38;5;28;01mTrue\u001b[39;00m)\n\u001b[1;32m     22\u001b[0m ])\n",
      "\u001b[0;31mNameError\u001b[0m: name 'ArrayType' is not defined"
     ]
    }
   ],
   "source": [
    "schema = StructType([\n",
    "    StructField(\"hr\", StringType(), True),\n",
    "    StructField(\"l\", ArrayType(\n",
    "        StructType([\n",
    "            StructField(\"c\", StringType(), True),   # código visível (ex: \"6L10-10\")\n",
    "            StructField(\"cl\", IntegerType(), True), # código numérico\n",
    "            StructField(\"sl\", IntegerType(), True), # sentido (1 = ida, 2 = volta)\n",
    "            StructField(\"lt0\", StringType(), True), # terminal inicial\n",
    "            StructField(\"lt1\", StringType(), True), # terminal final\n",
    "            StructField(\"qv\", IntegerType(), True), # quantidade de veículos\n",
    "            StructField(\"vs\", ArrayType(\n",
    "                StructType([\n",
    "                    StructField(\"p\", IntegerType(), True),  # código do veículo\n",
    "                    StructField(\"a\", BooleanType(), True),  # acessibilidade\n",
    "                    StructField(\"ta\", StringType(), True),  # timestamp de atualização\n",
    "                    StructField(\"py\", DoubleType(), True),  # latitude\n",
    "                    StructField(\"px\", DoubleType(), True),  # longitude\n",
    "                ])\n",
    "            ), True)\n",
    "        ])\n",
    "    ), True)\n",
    "])"
   ]
  },
  {
   "cell_type": "code",
   "execution_count": null,
   "id": "7cdaf995-2b2c-4b16-822a-834f4e5c762c",
   "metadata": {},
   "outputs": [],
   "source": [
    "df_raw = spark.read.option(\"multiline\", True).json(BRONZE_PATH)"
   ]
  },
  {
   "cell_type": "code",
   "execution_count": null,
   "id": "ae017728-d11f-483d-9f69-d00825a75250",
   "metadata": {},
   "outputs": [],
   "source": [
    "df_raw.printSchema()\n",
    "df_raw.show(1, truncate=False)"
   ]
  },
  {
   "cell_type": "code",
   "execution_count": null,
   "id": "cd6ede60-6b97-4b2c-b46f-625ec98d9592",
   "metadata": {},
   "outputs": [],
   "source": [
    "df_exploded = (\n",
    "    df_raw\n",
    "    .withColumn(\"linha\", explode(col(\"l\")))\n",
    "    .withColumn(\"veiculo\", explode(col(\"linha.vs\")))\n",
    ")"
   ]
  },
  {
   "cell_type": "code",
   "execution_count": null,
   "id": "042e1d2a-439f-4fa4-bd38-2d0476b040a2",
   "metadata": {},
   "outputs": [],
   "source": [
    "df_clean = (\n",
    "    df_exploded\n",
    "    .select(\n",
    "        col(\"linha.c\").alias(\"codigo_linha\"),\n",
    "        col(\"linha.lt0\").alias(\"terminal_inicial\"),\n",
    "        col(\"linha.lt1\").alias(\"terminal_final\"),\n",
    "        col(\"linha.sl\").alias(\"sentido\"),\n",
    "        col(\"veiculo.p\").alias(\"codigo_veiculo\"),\n",
    "        col(\"veiculo.a\").alias(\"acessibilidade\"),\n",
    "        col(\"veiculo.ta\").alias(\"ultima_atualizacao\"),\n",
    "        col(\"veiculo.py\").alias(\"latitude\"),\n",
    "        col(\"veiculo.px\").alias(\"longitude\"),\n",
    "        col(\"hr\").alias(\"hora_referencia\")\n",
    "    )\n",
    "    .withColumn(\"hora_referencia\", to_timestamp(\"hora_referencia\"))\n",
    "    .withColumn(\"ingest_timestamp\", current_timestamp())\n",
    "    .dropDuplicates([\"codigo_veiculo\", \"hora_referencia\"])\n",
    ")\n",
    "df_clean.show(30, truncate=False)"
   ]
  },
  {
   "cell_type": "code",
   "execution_count": null,
   "id": "4438dd4f-2ccb-4c76-a26d-92c8b7d96154",
   "metadata": {},
   "outputs": [],
   "source": [
    "(\n",
    "    df_clean\n",
    "    .repartition(1)  # opcional: reduzir número de arquivos pequenos\n",
    "    .write.mode(\"append\")\n",
    "    .format(\"parquet\")\n",
    "    .partitionBy(\"codigo_linha\")\n",
    "    .save(SILVER_PATH)\n",
    ")"
   ]
  },
  {
   "cell_type": "code",
   "execution_count": null,
   "id": "0f8a9ebc-6804-4b8d-809f-36be9986062f",
   "metadata": {},
   "outputs": [],
   "source": [
    "print(\"✅ Transformação Bronze → Silver concluída para 'posicao'.\")\n",
    "spark.stop()"
   ]
  },
  {
   "cell_type": "code",
   "execution_count": null,
   "id": "fea2a1d4-b238-4697-94bf-2a1d551acca6",
   "metadata": {},
   "outputs": [],
   "source": []
  }
 ],
 "metadata": {
  "kernelspec": {
   "display_name": "Python 3 (ipykernel)",
   "language": "python",
   "name": "python3"
  },
  "language_info": {
   "codemirror_mode": {
    "name": "ipython",
    "version": 3
   },
   "file_extension": ".py",
   "mimetype": "text/x-python",
   "name": "python",
   "nbconvert_exporter": "python",
   "pygments_lexer": "ipython3",
   "version": "3.10.8"
  }
 },
 "nbformat": 4,
 "nbformat_minor": 5
}
